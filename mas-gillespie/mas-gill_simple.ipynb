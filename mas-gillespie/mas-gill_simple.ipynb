{
 "metadata": {
  "name": ""
 },
 "nbformat": 3,
 "nbformat_minor": 0,
 "worksheets": [
  {
   "cells": [
    {
     "cell_type": "code",
     "collapsed": false,
     "input": [
      "%pylab inline\n",
      "import time"
     ],
     "language": "python",
     "metadata": {},
     "outputs": [
      {
       "output_type": "stream",
       "stream": "stdout",
       "text": [
        "Populating the interactive namespace from numpy and matplotlib\n"
       ]
      }
     ],
     "prompt_number": 2
    },
    {
     "cell_type": "code",
     "collapsed": false,
     "input": [
      "kr = 0.01 #/s\n",
      "rhlife = 120 #s = 2min\n",
      "phlife = 3600 #s = 1h\n",
      "gammar = np.log(2)/120 #/s\n",
      "gammap = np.log(2)/3600 #/s\n",
      "b = 20\n",
      "kp = b*gammar\n",
      "\n",
      "r0 = 0\n",
      "p0 = 0"
     ],
     "language": "python",
     "metadata": {},
     "outputs": [],
     "prompt_number": 2
    },
    {
     "cell_type": "code",
     "collapsed": false,
     "input": [
      "def Step(t_old, r_old, p_old):\n",
      "    \n",
      "    K = kr + gammar*r_old + kp*r_old + gammap*p_old\n",
      "    \n",
      "    Dt = np.log(1.0/random.random())/K\n",
      "    which = np.random.random()\n",
      "\n",
      "    t_new = t_old + Dt\n",
      "    \n",
      "    if(which < kr/K):\n",
      "        r_new = r_old + 1\n",
      "        p_new = p_old\n",
      "    elif(which >= kr/K and which < (kr+gammar*r_old)/K):\n",
      "        r_new = r_old - 1\n",
      "        p_new = p_old\n",
      "    elif(which >= (kr+gammar*r_old)/K and which < (kr+gammar*r_old+kp*r_old)/K):\n",
      "        r_new = r_old\n",
      "        p_new = p_old + 1\n",
      "    else:\n",
      "        r_new = r_old\n",
      "        p_new = p_old - 1\n",
      "        \n",
      "    return t_new, r_new, p_new"
     ],
     "language": "python",
     "metadata": {},
     "outputs": [],
     "prompt_number": 3
    },
    {
     "cell_type": "code",
     "collapsed": false,
     "input": [
      "def cell(t_total):\n",
      "    \n",
      "    '''\n",
      "    t = []\n",
      "    r = []\n",
      "    p = []\n",
      "    '''\n",
      "    \n",
      "    t_c = 0\n",
      "    r_c = r0\n",
      "    p_c = p0\n",
      "    \n",
      "    '''\n",
      "    t.append(0)\n",
      "    r.append(r0)\n",
      "    p.append(p0)\n",
      "    '''\n",
      "    \n",
      "    while t_c < t_total:\n",
      "        \n",
      "        #cambiar la funcion llamada en la linea siguiente entre step y step_negative_feedback segun sea el caso\n",
      "        t_c, r_c, p_c = Step(t_c, r_c, p_c)\n",
      "        \n",
      "        '''\n",
      "        t.append(t_c)\n",
      "        r.append(r_c)\n",
      "        p.append(p_c)\n",
      "        '''\n",
      "    '''\n",
      "    t_s = np.linspace(0, t_total-dt, t_total/dt)\n",
      "    r_s = np.zeros(len(t_s))\n",
      "    p_s = np.zeros(len(t_s))\n",
      "    \n",
      "    j = 0\n",
      "    for i in range(len(t_s)):\n",
      "        \n",
      "        while(t[j] < t_s[i]):\n",
      "            j+=1\n",
      "            \n",
      "        r_s[i] = r[j]\n",
      "        p_s[i] = p[j]\n",
      "    '''    \n",
      "    #Esta parte solo se incluye cuando miremos celulas individuales\n",
      "    '''\n",
      "    plot(t,r)\n",
      "    plt.title(\"Number of RNA molecules of each cell\", fontsize = \"15\")\n",
      "    xlabel(\"time (minutes)\", fontsize = \"13\")\n",
      "    ylabel(\"Number of RNA molecules\", fontsize = \"13\")\n",
      "    xlim([0,t_total])\n",
      "    plt.show()\n",
      "    plt.close()\n",
      "    \n",
      "    plot(t_s,r_s)\n",
      "    plt.title(\"Number of RNA molecules of each cell (scaled)\", fontsize = \"15\")\n",
      "    xlabel(\"time (minutes)\", fontsize = \"13\")\n",
      "    ylabel(\"Number of RNA molecules\", fontsize = \"13\")\n",
      "    xlim([0,t_total])\n",
      "    plt.show()\n",
      "    plt.close()\n",
      "    \n",
      "    plot(t, p)\n",
      "    plt.title(\"Number of proteins of each cell\", fontsize = \"15\")\n",
      "    xlabel(\"time (minutes)\", fontsize = \"13\")\n",
      "    ylabel(\"Number of proteins\", fontsize = \"13\")\n",
      "    xlim([0,t_total])\n",
      "    plt.show()\n",
      "    plt.close()\n",
      "    \n",
      "    plot(t_s, p_s)\n",
      "    plt.title(\"Number of proteins of each cell (scaled)\", fontsize = \"15\")\n",
      "    xlabel(\"time (minutes)\", fontsize = \"13\")\n",
      "    ylabel(\"Number of proteins\", fontsize = \"13\")\n",
      "    xlim([0,t_total])\n",
      "    plt.show()\n",
      "    plt.close()\n",
      "    '''\n",
      "    \n",
      "    return r_c, p_c"
     ],
     "language": "python",
     "metadata": {},
     "outputs": [],
     "prompt_number": 4
    },
    {
     "cell_type": "code",
     "collapsed": false,
     "input": [
      "t_total = 10*phlife\n",
      "\n",
      "r, p = cell(t_total)\n",
      "p"
     ],
     "language": "python",
     "metadata": {},
     "outputs": [
      {
       "metadata": {},
       "output_type": "pyout",
       "prompt_number": 20,
       "text": [
        "1144"
       ]
      }
     ],
     "prompt_number": 20
    },
    {
     "cell_type": "code",
     "collapsed": false,
     "input": [
      "def several_cells(N_cells, t_total):\n",
      "       \n",
      "    #n_points = int(t_total/dt)\n",
      "    \n",
      "    R = np.zeros(N_cells)\n",
      "    P = np.zeros(N_cells)\n",
      "    \n",
      "    for i in range(N_cells):\n",
      "        \n",
      "        r_c, p_c = cell(t_total)\n",
      "        \n",
      "        R[i] = r_c\n",
      "        P[i] = p_c\n",
      "        \n",
      "        ave_R = np.average(R)\n",
      "        std_R = np.std(R)\n",
      "        ave_P = np.average(P)\n",
      "        std_P = np.std(P)\n",
      "    '''\n",
      "    plot(t_s, ave_R)\n",
      "    plt.title(\"Average of RNA molecules\", fontsize = \"15\")\n",
      "    xlabel(\"time (minutes)\", fontsize = \"13\")\n",
      "    ylabel(\"Number of RNA molecules\", fontsize = \"13\")\n",
      "    plt.show()\n",
      "    plt.close()\n",
      "    \n",
      "    plot(t_s, ave_P)\n",
      "    plt.title(\"Average of proteins\", fontsize = \"15\")\n",
      "    xlabel(\"time (minutes)\", fontsize = \"13\")\n",
      "    ylabel(\"Number of proteins\", fontsize = \"13\")\n",
      "    ylim([0,10000])\n",
      "    plt.show()\n",
      "    plt.close()\n",
      "    \n",
      "    plot(t_s, std_R/ave_R)\n",
      "    plt.title(\"Noise in RNA number\", fontsize = \"15\")\n",
      "    xlabel(\"time (minutes)\", fontsize = \"13\")\n",
      "    ylabel(\"CV$_r$\", fontsize = \"13\")\n",
      "    ylim([0,2.5])\n",
      "    plt.show()\n",
      "    plt.close()\n",
      "    \n",
      "    plot(t_s, std_P/ave_P)\n",
      "    plt.title(\"Noise in protein number\", fontsize = \"15\")\n",
      "    xlabel(\"time (minutes)\", fontsize = \"13\")\n",
      "    ylabel(\"CV$_p$\", fontsize = \"13\")\n",
      "    ylim([0,2.5])\n",
      "    plt.show()\n",
      "    plt.close()\n",
      "    \n",
      "    hist(R[:, n_points-1], bins = 8)\n",
      "    plt.title(\"Distribution of RNA in steady state\", fontsize = \"15\")\n",
      "    xlabel(\"Number of RNA molecules\", fontsize = \"13\")\n",
      "    ylabel(\"Number of cells\", fontsize = \"13\")\n",
      "    plt.show()\n",
      "    plt.close()\n",
      "    \n",
      "    hist(P[:, n_points-1], bins = 60)\n",
      "    plt.title(\"Distribution of proteins in steady state\", fontsize = \"15\")\n",
      "    xlabel(\"Number of proteins\", fontsize = \"13\")\n",
      "    ylabel(\"Number of cells\", fontsize = \"13\")\n",
      "    plt.show()\n",
      "    plt.close()\n",
      "    '''\n",
      "    #ave_R, std_R,\n",
      "    return ave_P, std_P"
     ],
     "language": "python",
     "metadata": {},
     "outputs": [],
     "prompt_number": 21
    },
    {
     "cell_type": "code",
     "collapsed": false,
     "input": [
      "start_time = time.time()\n",
      "\n",
      "B = np.linspace(5,40,8)\n",
      "Ave_Pb = []\n",
      "Std_Pb = []\n",
      "for el in B:\n",
      "    b = el\n",
      "    print b\n",
      "    kp = b*gammar\n",
      "    ave_P, std_P = several_cells(1000,10*phlife)\n",
      "    Ave_Pb.append(ave_P)\n",
      "    Std_Pb.append(std_P)\n",
      "\n",
      "b = 20\n",
      "kp = b*gammar\n",
      "\n",
      "Kr = np.linspace(0.0025,0.02,8)\n",
      "Ave_Pkr = []\n",
      "Std_Pkr = []\n",
      "for el in Kr:\n",
      "    kr = el\n",
      "    print kr\n",
      "    ave_P, std_P = several_cells(1000,10*phlife)\n",
      "    Ave_Pkr.append(ave_P)\n",
      "    Std_Pkr.append(std_P)\n",
      "\n",
      "kr = 0.01\n",
      "    \n",
      "Phlife = np.linspace(15*60,2*3600,8)\n",
      "Ave_Phlife = []\n",
      "Std_Phlife = []\n",
      "for el in Phlife:\n",
      "    phlife = el\n",
      "    gammap = np.log(2)/phlife #/s\n",
      "    print phlife\n",
      "    ave_P, std_P = several_cells(1000,10*phlife)\n",
      "    Ave_Phlife.append(ave_P)\n",
      "    Std_Phlife.append(std_P)\n",
      "    \n",
      "end_time = time.time() - start_time\n",
      "hours = int(end_time/3600)\n",
      "minutes = int((end_time%3600)/60)\n",
      "seconds = (end_time%3600)%60\n",
      "\n",
      "print(\"The execution time was: \" + str(hours) + \" hours, \" + str(minutes) + \" minutes, \" + str(seconds) + \" seconds.\")"
     ],
     "language": "python",
     "metadata": {},
     "outputs": [
      {
       "output_type": "stream",
       "stream": "stdout",
       "text": [
        "5.0\n",
        "10.0"
       ]
      },
      {
       "output_type": "stream",
       "stream": "stdout",
       "text": [
        "\n",
        "15.0"
       ]
      },
      {
       "output_type": "stream",
       "stream": "stdout",
       "text": [
        "\n",
        "20.0"
       ]
      },
      {
       "output_type": "stream",
       "stream": "stdout",
       "text": [
        "\n",
        "25.0"
       ]
      },
      {
       "output_type": "stream",
       "stream": "stdout",
       "text": [
        "\n",
        "30.0"
       ]
      },
      {
       "output_type": "stream",
       "stream": "stdout",
       "text": [
        "\n",
        "35.0"
       ]
      },
      {
       "output_type": "stream",
       "stream": "stdout",
       "text": [
        "\n",
        "40.0"
       ]
      },
      {
       "output_type": "stream",
       "stream": "stdout",
       "text": [
        "\n",
        "0.0025"
       ]
      },
      {
       "output_type": "stream",
       "stream": "stdout",
       "text": [
        "\n",
        "0.005"
       ]
      },
      {
       "output_type": "stream",
       "stream": "stdout",
       "text": [
        "\n",
        "0.0075"
       ]
      },
      {
       "output_type": "stream",
       "stream": "stdout",
       "text": [
        "\n",
        "0.01"
       ]
      },
      {
       "output_type": "stream",
       "stream": "stdout",
       "text": [
        "\n",
        "0.0125"
       ]
      },
      {
       "output_type": "stream",
       "stream": "stdout",
       "text": [
        "\n",
        "0.015"
       ]
      },
      {
       "output_type": "stream",
       "stream": "stdout",
       "text": [
        "\n",
        "0.0175"
       ]
      },
      {
       "output_type": "stream",
       "stream": "stdout",
       "text": [
        "\n",
        "0.02"
       ]
      },
      {
       "output_type": "stream",
       "stream": "stdout",
       "text": [
        "\n",
        "900.0"
       ]
      },
      {
       "output_type": "stream",
       "stream": "stdout",
       "text": [
        "\n",
        "1800.0"
       ]
      },
      {
       "output_type": "stream",
       "stream": "stdout",
       "text": [
        "\n",
        "2700.0"
       ]
      },
      {
       "output_type": "stream",
       "stream": "stdout",
       "text": [
        "\n",
        "3600.0"
       ]
      },
      {
       "output_type": "stream",
       "stream": "stdout",
       "text": [
        "\n",
        "4500.0"
       ]
      },
      {
       "output_type": "stream",
       "stream": "stdout",
       "text": [
        "\n",
        "5400.0"
       ]
      },
      {
       "output_type": "stream",
       "stream": "stdout",
       "text": [
        "\n",
        "6300.0"
       ]
      },
      {
       "output_type": "stream",
       "stream": "stdout",
       "text": [
        "\n",
        "7200.0"
       ]
      },
      {
       "output_type": "stream",
       "stream": "stdout",
       "text": [
        "\n",
        "The execution time was: 2 hours, 3 minutes, 21.0311250687 seconds."
       ]
      },
      {
       "output_type": "stream",
       "stream": "stdout",
       "text": [
        "\n"
       ]
      }
     ],
     "prompt_number": 22
    },
    {
     "cell_type": "code",
     "collapsed": false,
     "input": [
      "kr = 0.01 #/s\n",
      "rhlife = 120 #s = 2min\n",
      "phlife = 3600 #s = 1h\n",
      "gammar = np.log(2)/120 #/s\n",
      "gammap = np.log(2)/3600 #/s\n",
      "b = 20\n",
      "kp = b*gammar\n",
      "\n",
      "x = np.linspace(0.01,2500,250)\n",
      "scatter(np.array(Ave_Pb),np.array(Std_Pb)**2/np.array(Ave_Pb))\n",
      "scatter(np.array(Ave_Pkr),np.array(Std_Pkr)**2/np.array(Ave_Pkr),color='red')\n",
      "scatter(np.array(Ave_Phlife),np.array(Std_Phlife)**2/np.array(Ave_Phlife),color='green')\n",
      "plot(x,(gammap/kr)*x/(1+gammap/gammar)+1)\n",
      "plot(x,21*np.ones(len(x)),color='red')\n",
      "plot(x,b/(1+kr*b/(gammar*x))+1, color='green')\n",
      "plt.xlabel(r'$\\langle n_2\\rangle$',fontsize = '18')\n",
      "plt.ylabel(r'$\\nu_2$',fontsize = '18')\n",
      "plt.savefig('b.png')\n",
      "plt.show()\n",
      "#plt.close()"
     ],
     "language": "python",
     "metadata": {},
     "outputs": [
      {
       "metadata": {},
       "output_type": "display_data",
       "png": "[encoded data removed]",
       "text": [
        "<matplotlib.figure.Figure at 0x7f814afaa250>"
       ]
      }
     ],
     "prompt_number": 23
    },
    {
     "cell_type": "code",
     "collapsed": false,
     "input": [
      "kr = 0.01 #/s\n",
      "rhlife = 120 #s = 2min\n",
      "phlife = 3600 #s = 1h\n",
      "gammar = np.log(2)/120 #/s\n",
      "gammap = np.log(2)/3600 #/s\n",
      "b = 20\n",
      "kp = b*gammar\n",
      "\n",
      "x = np.linspace(0.01,2500,250)\n",
      "scatter(np.array(Ave_Pb),np.array(Std_Pb)**2/np.array(Ave_Pb))\n",
      "scatter(np.array(Ave_Pkr),np.array(Std_Pkr)**2/np.array(Ave_Pkr),color='red')\n",
      "scatter(np.array(Ave_Phlife),np.array(Std_Phlife)**2/np.array(Ave_Phlife),color='green')\n",
      "plot(x,(gammap/kr)*x/(1+gammap/gammar)+1)\n",
      "plot(x,21*np.ones(len(x)),color='red')\n",
      "plot(x,b/(1+kr*b/(gammar*x))+1, color='green')\n",
      "plt.xlabel(r'$\\langle n_2\\rangle$',fontsize = '18')\n",
      "plt.ylabel(r'$\\nu_2$',fontsize = '18')\n",
      "plt.savefig('b.png')\n",
      "plt.show()\n",
      "#plt.close()"
     ],
     "language": "python",
     "metadata": {},
     "outputs": [
      {
       "metadata": {},
       "output_type": "display_data",
       "png": "[encoded data removed]",
       "text": [
        "<matplotlib.figure.Figure at 0x7ffb382f3cd0>"
       ]
      }
     ],
     "prompt_number": 106
    },
    {
     "cell_type": "code",
     "collapsed": false,
     "input": [
      "np.linspace(5,40,8)"
     ],
     "language": "python",
     "metadata": {},
     "outputs": [
      {
       "metadata": {},
       "output_type": "pyout",
       "prompt_number": 3,
       "text": [
        "array([  5.,  10.,  15.,  20.,  25.,  30.,  35.,  40.])"
       ]
      }
     ],
     "prompt_number": 3
    },
    {
     "cell_type": "code",
     "collapsed": false,
     "input": [
      "np.linspace(0.0025,0.02,8)"
     ],
     "language": "python",
     "metadata": {},
     "outputs": [
      {
       "metadata": {},
       "output_type": "pyout",
       "prompt_number": 4,
       "text": [
        "array([ 0.0025,  0.005 ,  0.0075,  0.01  ,  0.0125,  0.015 ,  0.0175,  0.02  ])"
       ]
      }
     ],
     "prompt_number": 4
    },
    {
     "cell_type": "code",
     "collapsed": false,
     "input": [
      "np.linspace(15*60,2*3600,8)"
     ],
     "language": "python",
     "metadata": {},
     "outputs": [
      {
       "metadata": {},
       "output_type": "pyout",
       "prompt_number": 5,
       "text": [
        "array([  900.,  1800.,  2700.,  3600.,  4500.,  5400.,  6300.,  7200.])"
       ]
      }
     ],
     "prompt_number": 5
    },
    {
     "cell_type": "code",
     "collapsed": false,
     "input": [],
     "language": "python",
     "metadata": {},
     "outputs": []
    }
   ],
   "metadata": {}
  }
 ]
}